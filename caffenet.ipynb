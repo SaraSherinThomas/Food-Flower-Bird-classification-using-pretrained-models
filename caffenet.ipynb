{
 "cells": [
  {
   "cell_type": "markdown",
   "metadata": {},
   "source": [
    "Here we download a pre-trained Resnet 50-layer model on Imagenet. "
   ]
  },
  {
   "cell_type": "code",
   "execution_count": 9,
   "metadata": {
    "collapsed": false
   },
   "outputs": [],
   "source": [
    "import os, urllib\n",
    "def download(url):\n",
    "    filename = url.split(\"/\")[-1]\n",
    "    if not os.path.exists(filename):\n",
    "        urllib.urlretrieve(url, filename)\n",
    "def get_model(prefix, epoch):\n",
    "    print prefix+'-%04d.params' % (epoch,)\n",
    "    download(prefix+'-symbol.json')\n",
    "    download(prefix+'-%04d.params' % (epoch,))\n",
    "\n"
   ]
  },
  {
   "cell_type": "code",
   "execution_count": 10,
   "metadata": {
    "collapsed": false
   },
   "outputs": [
    {
     "name": "stdout",
     "output_type": "stream",
     "text": [
      "http://data.dmlc.ml/mxnet/models/imagenet/caffenet/caffenet-0000.params\n"
     ]
    }
   ],
   "source": [
    "get_model('http://data.dmlc.ml/mxnet/models/imagenet/caffenet/caffenet', 0)"
   ]
  },
  {
   "cell_type": "markdown",
   "metadata": {},
   "source": [
    "Initialization\n",
    "\n",
    "We first load the model into memory with load_checkpoint. It returns the symbol (see symbol.ipynb) definition of the neural network, and parameters.\n"
   ]
  },
  {
   "cell_type": "code",
   "execution_count": 11,
   "metadata": {
    "collapsed": false
   },
   "outputs": [],
   "source": [
    "import mxnet as mx\n",
    "sym, arg_params, aux_params = mx.model.load_checkpoint('caffenet', 0)"
   ]
  },
  {
   "cell_type": "markdown",
   "metadata": {},
   "source": [
    "Next we create an executable module on CPU."
   ]
  },
  {
   "cell_type": "code",
   "execution_count": 14,
   "metadata": {
    "collapsed": false
   },
   "outputs": [
    {
     "name": "stdout",
     "output_type": "stream",
     "text": [
      "<Symbol prob>\n"
     ]
    }
   ],
   "source": [
    "mod = mx.mod.Module(symbol=sym, context=mx.cpu())\n",
    "print sym"
   ]
  },
  {
   "cell_type": "markdown",
   "metadata": {},
   "source": [
    "The ResNet is trained with RGB images of size 224 x 224. The training data is feed by the variable data. We bind the module with the input shape and specify that it is only for predicting. The number 1 added before the image shape (3x224x224) means that we will only predict one image each time. Next we set the loaded parameters. Now the module is ready to run. "
   ]
  },
  {
   "cell_type": "code",
   "execution_count": 15,
   "metadata": {
    "collapsed": false
   },
   "outputs": [],
   "source": [
    "mod.bind(for_training = False,\n",
    "         data_shapes=[('data', (1,3,224,224))])\n",
    "arg_params['prob_label'] = mx.nd.array([0])\n",
    "mod.set_params(arg_params, aux_params)"
   ]
  },
  {
   "cell_type": "markdown",
   "metadata": {},
   "source": [
    "Preparing data"
   ]
  },
  {
   "cell_type": "code",
   "execution_count": 19,
   "metadata": {
    "collapsed": true
   },
   "outputs": [],
   "source": [
    "%matplotlib inline\n",
    "import matplotlib\n",
    "matplotlib.rc(\"savefig\", dpi=100)\n",
    "import matplotlib.pyplot as plt\n",
    "import cv2\n",
    "import os"
   ]
  },
  {
   "cell_type": "markdown",
   "metadata": {},
   "source": [
    "Next we define a function that reads one image each time and convert to a format can be used by the model. Here we use a naive way that resizes the original image into the desired shape, and change the data layout. "
   ]
  },
  {
   "cell_type": "code",
   "execution_count": 20,
   "metadata": {
    "collapsed": true
   },
   "outputs": [],
   "source": [
    "import numpy as np\n",
    "import cv2\n",
    "def get_image(filename):\n",
    "    img = cv2.imread(filename)  # read image in b,g,r order\n",
    "    img = cv2.cvtColor(img, cv2.COLOR_BGR2RGB)   # change to r,g,b order\n",
    "    img = cv2.resize(img, (224, 224))  # resize to 224*224 to fit model\n",
    "    img = np.swapaxes(img, 0, 2)\n",
    "    img = np.swapaxes(img, 1, 2)  # change to (channel, height, width)\n",
    "    img = img[np.newaxis, :]  # extend to (example, channel, heigth, width)\n",
    "    return img"
   ]
  },
  {
   "cell_type": "code",
   "execution_count": 21,
   "metadata": {
    "collapsed": false
   },
   "outputs": [
    {
     "name": "stdout",
     "output_type": "stream",
     "text": [
      "101\n",
      "101\n",
      "101\n"
     ]
    }
   ],
   "source": [
    "files = os.listdir('flowers')\n",
    "flower_img=[]\n",
    "flower_img_rep=[]\n",
    "flower_lbl=[]\n",
    "i=0\n",
    "for file in files:\n",
    "    \n",
    "    img = get_image('flowers/'+file)\n",
    "    if i>100:\n",
    "        break\n",
    "    flower_img_rep.append(cv2.imread(file, cv2.COLOR_BGR2RGB))\n",
    "    flower_img.append(img)\n",
    "    flower_lbl.append('flower')\n",
    "    i=i+1\n",
    "\n",
    "files = os.listdir('birds')\n",
    "bird_img=[]\n",
    "bird_img_rep=[]\n",
    "bird_lbl=[]\n",
    "i=0\n",
    "for file in files:\n",
    "    img = get_image('birds/'+file)\n",
    "    if i>100:\n",
    "        break\n",
    "    bird_img_rep.append(cv2.imread(file, cv2.COLOR_BGR2RGB))\n",
    "    bird_img.append(img)\n",
    "    bird_lbl.append('bird')\n",
    "    i=i+1\n",
    "\n",
    "files = os.listdir('food')\n",
    "food_img=[]\n",
    "food_img_rep=[]\n",
    "food_lbl=[]\n",
    "i=0\n",
    "for file in files:\n",
    "    img = get_image('food/'+file)\n",
    "    if i>100:\n",
    "        break\n",
    "    food_img_rep.append(cv2.imread(file, cv2.COLOR_BGR2RGB))\n",
    "    food_img.append(img)\n",
    "    food_lbl.append('food')\n",
    "    i=i+1\n",
    "print len(bird_img)\n",
    "print len(flower_img)\n",
    "print len(food_img)"
   ]
  },
  {
   "cell_type": "code",
   "execution_count": 22,
   "metadata": {
    "collapsed": false
   },
   "outputs": [
    {
     "name": "stdout",
     "output_type": "stream",
     "text": [
      "70\n",
      "140\n",
      "210\n"
     ]
    }
   ],
   "source": [
    "train_img = []\n",
    "train_lbl = []\n",
    "test_img = []\n",
    "test_lbl = []\n",
    "train_img = flower_img[:len(flower_img)*7/10] \n",
    "train_lbl = flower_lbl[:len(flower_lbl)*7/10]\n",
    "test_img = flower_img[len(flower_img)*7/10:] \n",
    "test_lbl = flower_lbl[len(flower_lbl)*7/10:]  \n",
    "test_img_rep = flower_img_rep[len(flower_img)*7/10:]\n",
    "print len(train_lbl)\n",
    "train_img.extend(bird_img[:len(bird_img)*7/10]) \n",
    "train_lbl.extend(bird_lbl[:len(bird_lbl)*7/10])\n",
    "test_img.extend(bird_img[len(bird_img)*7/10:]) \n",
    "test_lbl.extend(bird_lbl[len(bird_lbl)*7/10:])  \n",
    "test_img_rep = bird_img_rep[len(bird_img)*7/10:]\n",
    "print len(train_lbl)\n",
    "train_img.extend(food_img[:len(bird_img)*7/10]) \n",
    "train_lbl.extend(food_lbl[:len(bird_lbl)*7/10])\n",
    "test_img.extend(food_img[len(bird_img)*7/10:]) \n",
    "test_lbl.extend(food_lbl[len(bird_lbl)*7/10:])  \n",
    "test_img_rep = food_img_rep[len(bird_img)*7/10:]\n",
    "print len(train_lbl)"
   ]
  },
  {
   "cell_type": "code",
   "execution_count": 23,
   "metadata": {
    "collapsed": true
   },
   "outputs": [],
   "source": [
    "from sklearn.utils import shuffle \n",
    "\n",
    "train_img, train_lbl = shuffle(train_img, train_lbl)\n"
   ]
  },
  {
   "cell_type": "markdown",
   "metadata": {},
   "source": [
    "Finally we define a input data structure which is acceptable by mxnet. The field data is used for the input data, which is a list of NDArrays. "
   ]
  },
  {
   "cell_type": "code",
   "execution_count": 24,
   "metadata": {
    "collapsed": true
   },
   "outputs": [],
   "source": [
    "from collections import namedtuple\n",
    "Batch = namedtuple('Batch', ['data'])"
   ]
  },
  {
   "cell_type": "markdown",
   "metadata": {},
   "source": [
    "Extract Features\n",
    "\n",
    "Sometime we want the internal outputs from a neural network rather than then final predicted probabilities. In this way, the neural network works as a feature extraction module to other applications.\n",
    "\n",
    "A loaded symbol in default only returns the last layer as output. But we can get all internal layers by get_internals, which returns a new symbol outputting all internal layers. The following codes print the last 10 layer names.\n",
    "\n",
    "We can also use mx.viz.plot_network(sym) to visually find the name of the layer we want to use. The name conventions of the output is the layer name with _output as the postfix.\n"
   ]
  },
  {
   "cell_type": "code",
   "execution_count": 25,
   "metadata": {
    "collapsed": false
   },
   "outputs": [
    {
     "data": {
      "text/plain": [
       "['conv5_bias',\n",
       " 'conv5_output',\n",
       " 'relu5_output',\n",
       " 'pool5_output',\n",
       " 'flatten_0_output',\n",
       " 'fc6_weight',\n",
       " 'fc6_bias',\n",
       " 'fc6_output',\n",
       " 'relu6_output',\n",
       " 'drop6_output',\n",
       " 'fc7_weight',\n",
       " 'fc7_bias',\n",
       " 'fc7_output',\n",
       " 'relu7_output',\n",
       " 'drop7_output',\n",
       " 'fc8_weight',\n",
       " 'fc8_bias',\n",
       " 'fc8_output',\n",
       " 'prob_label']"
      ]
     },
     "execution_count": 25,
     "metadata": {},
     "output_type": "execute_result"
    }
   ],
   "source": [
    "all_layers = sym.get_internals()\n",
    "all_layers.list_outputs()[-20:-1]"
   ]
  },
  {
   "cell_type": "markdown",
   "metadata": {},
   "source": [
    "Often we want to use the output before the last fully connected layers, which may return semantic features of the raw images but not too fitting to the label yet. In the ResNet case, it is the flatten layer with name flatten0 before the last fullc layer. The following codes get the new symbol sym3 which use the flatten layer as the last output layer, and initialize a new module."
   ]
  },
  {
   "cell_type": "code",
   "execution_count": 27,
   "metadata": {
    "collapsed": false
   },
   "outputs": [],
   "source": [
    "all_layers = sym.get_internals()\n",
    "sym3 = all_layers['flatten_0_output']\n",
    "mod3 = mx.mod.Module(symbol=sym3, context=mx.cpu())\n",
    "mod3.bind(for_training=False, data_shapes=[('data', (1,3,224,224))])\n",
    "mod3.set_params(arg_params, aux_params)\n"
   ]
  },
  {
   "cell_type": "code",
   "execution_count": 28,
   "metadata": {
    "collapsed": false
   },
   "outputs": [
    {
     "name": "stdout",
     "output_type": "stream",
     "text": [
      "(210, 9216)\n",
      "Time taken : \n"
     ]
    }
   ],
   "source": [
    "import timeit\n",
    "length = len(train_img)\n",
    "featuremap=[]\n",
    "start_time = timeit.default_timer() \n",
    "batch_size = 150\n",
    "for i in range(0,length):\n",
    "    img = train_img[i]\n",
    "    mod3.forward(Batch([mx.nd.array(img)]))\n",
    "    out = mod3.get_outputs()[0].asnumpy()\n",
    "    featuremap.append(out.flatten())\n",
    "elapsed = timeit.default_timer() - start_time\n",
    "train_images = np.array(featuremap)\n",
    "print(train_images.shape)\n",
    "print(\"Time taken : \")\n"
   ]
  },
  {
   "cell_type": "code",
   "execution_count": 29,
   "metadata": {
    "collapsed": false
   },
   "outputs": [
    {
     "name": "stdout",
     "output_type": "stream",
     "text": [
      "420.213258982\n"
     ]
    }
   ],
   "source": [
    "print elapsed"
   ]
  },
  {
   "cell_type": "raw",
   "metadata": {},
   "source": [
    "'Training MLP"
   ]
  },
  {
   "cell_type": "code",
   "execution_count": 32,
   "metadata": {
    "collapsed": false
   },
   "outputs": [
    {
     "name": "stdout",
     "output_type": "stream",
     "text": [
      "(210, 9216)\n",
      "210\n"
     ]
    },
    {
     "data": {
      "text/plain": [
       "MLPClassifier(activation='relu', alpha=0.0001, batch_size='auto', beta_1=0.9,\n",
       "       beta_2=0.999, early_stopping=False, epsilon=1e-08,\n",
       "       hidden_layer_sizes=(10, 10), learning_rate='constant',\n",
       "       learning_rate_init=0.01, max_iter=500, momentum=0.9,\n",
       "       nesterovs_momentum=True, power_t=0.5, random_state=None,\n",
       "       shuffle=True, solver='adam', tol=0.0001, validation_fraction=0.1,\n",
       "       verbose=False, warm_start=False)"
      ]
     },
     "execution_count": 32,
     "metadata": {},
     "output_type": "execute_result"
    }
   ],
   "source": [
    "from sklearn import svm\n",
    "from sklearn.neural_network import MLPClassifier\n",
    "\n",
    "print train_images.shape\n",
    "print len(train_lbl)\n",
    "mlp = MLPClassifier(hidden_layer_sizes=(10,10),solver='adam',learning_rate_init=0.01,max_iter=500)\n",
    "\n",
    "mlp.fit(train_images, train_lbl)\n"
   ]
  },
  {
   "cell_type": "markdown",
   "metadata": {},
   "source": [
    "Testing and calculating accuracy of the classifier"
   ]
  },
  {
   "cell_type": "code",
   "execution_count": 33,
   "metadata": {
    "collapsed": false
   },
   "outputs": [
    {
     "name": "stdout",
     "output_type": "stream",
     "text": [
      "93\n",
      "('food', 'flower')\n",
      "('food', 'flower')\n",
      "('food', 'flower')\n",
      "('food', 'flower')\n",
      "('food', 'flower')\n",
      "('food', 'flower')\n",
      "('food', 'flower')\n",
      "('food', 'flower')\n",
      "('food', 'flower')\n",
      "('food', 'flower')\n",
      "('food', 'flower')\n",
      "('food', 'flower')\n",
      "('food', 'flower')\n",
      "('food', 'flower')\n",
      "('food', 'flower')\n",
      "('food', 'flower')\n",
      "('food', 'flower')\n",
      "('food', 'flower')\n",
      "('food', 'flower')\n",
      "('food', 'flower')\n",
      "('food', 'flower')\n",
      "('food', 'flower')\n",
      "('food', 'flower')\n",
      "('food', 'flower')\n",
      "('food', 'flower')\n",
      "('food', 'flower')\n",
      "('food', 'flower')\n",
      "('food', 'flower')\n",
      "('food', 'flower')\n",
      "('food', 'flower')\n",
      "('food', 'flower')\n",
      "('food', 'bird')\n",
      "('food', 'bird')\n",
      "('food', 'bird')\n",
      "('food', 'bird')\n",
      "('food', 'bird')\n",
      "('food', 'bird')\n",
      "('food', 'bird')\n",
      "('food', 'bird')\n",
      "('food', 'bird')\n",
      "('food', 'bird')\n",
      "('food', 'bird')\n",
      "('food', 'bird')\n",
      "('food', 'bird')\n",
      "('food', 'bird')\n",
      "('food', 'bird')\n",
      "('food', 'bird')\n",
      "('food', 'bird')\n",
      "('food', 'bird')\n",
      "('food', 'bird')\n",
      "('food', 'bird')\n",
      "('food', 'bird')\n",
      "('food', 'bird')\n",
      "('food', 'bird')\n",
      "('food', 'bird')\n",
      "('food', 'bird')\n",
      "('food', 'bird')\n",
      "('food', 'bird')\n",
      "('food', 'bird')\n",
      "('food', 'bird')\n",
      "('food', 'bird')\n",
      "('food', 'bird')\n",
      "('food', 'food')\n",
      "('food', 'food')\n",
      "('food', 'food')\n",
      "('food', 'food')\n",
      "('food', 'food')\n",
      "('food', 'food')\n",
      "('food', 'food')\n",
      "('food', 'food')\n",
      "('food', 'food')\n",
      "('food', 'food')\n",
      "('food', 'food')\n",
      "('food', 'food')\n",
      "('food', 'food')\n",
      "('food', 'food')\n",
      "('food', 'food')\n",
      "('food', 'food')\n",
      "('food', 'food')\n",
      "('food', 'food')\n",
      "('food', 'food')\n",
      "('food', 'food')\n",
      "('food', 'food')\n",
      "('food', 'food')\n",
      "('food', 'food')\n",
      "('food', 'food')\n",
      "('food', 'food')\n",
      "('food', 'food')\n",
      "('food', 'food')\n",
      "('food', 'food')\n",
      "('food', 'food')\n",
      "('food', 'food')\n",
      "('food', 'food')\n"
     ]
    },
    {
     "data": {
      "text/plain": [
       "0.33333333333333331"
      ]
     },
     "execution_count": 33,
     "metadata": {},
     "output_type": "execute_result"
    }
   ],
   "source": [
    "from sklearn.metrics import accuracy_score\n",
    "predict_lbl = []\n",
    "print len(test_lbl)\n",
    "length = len(test_img)\n",
    "for i in range(0,length):\n",
    "    img = test_img[i]\n",
    "    mod3.forward(Batch([mx.nd.array(img)]))\n",
    "    out = mod3.get_outputs()[0].asnumpy()\n",
    "    predict_lbl.append(mlp.predict([out.flatten()])[0])\n",
    "    print(predict_lbl[i],test_lbl[i])\n",
    "    \n",
    "accuracy_score(test_lbl, predict_lbl)\n"
   ]
  },
  {
   "cell_type": "code",
   "execution_count": null,
   "metadata": {
    "collapsed": false
   },
   "outputs": [],
   "source": [
    "print len(train_img)"
   ]
  },
  {
   "cell_type": "code",
   "execution_count": null,
   "metadata": {
    "collapsed": true
   },
   "outputs": [],
   "source": []
  },
  {
   "cell_type": "code",
   "execution_count": null,
   "metadata": {
    "collapsed": true
   },
   "outputs": [],
   "source": []
  },
  {
   "cell_type": "code",
   "execution_count": null,
   "metadata": {
    "collapsed": true
   },
   "outputs": [],
   "source": []
  }
 ],
 "metadata": {
  "kernelspec": {
   "display_name": "Python 2",
   "language": "python",
   "name": "python2"
  },
  "language_info": {
   "codemirror_mode": {
    "name": "ipython",
    "version": 2
   },
   "file_extension": ".py",
   "mimetype": "text/x-python",
   "name": "python",
   "nbconvert_exporter": "python",
   "pygments_lexer": "ipython2",
   "version": "2.7.12"
  }
 },
 "nbformat": 4,
 "nbformat_minor": 2
}
